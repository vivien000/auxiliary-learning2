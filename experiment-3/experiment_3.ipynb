{
  "nbformat": 4,
  "nbformat_minor": 0,
  "metadata": {
    "colab": {
      "name": "experiment-3.ipynb",
      "provenance": [],
      "collapsed_sections": []
    },
    "kernelspec": {
      "name": "python3",
      "display_name": "Python 3"
    },
    "accelerator": "GPU"
  },
  "cells": [
    {
      "cell_type": "code",
      "metadata": {
        "id": "AFHKhnYc5XIT",
        "colab_type": "code",
        "colab": {}
      },
      "source": [
        "%cd -q ./data/\n",
        "!mkdir -p pos_chunk_ner/\n",
        "!wget -q https://raw.githubusercontent.com/Franck-Dernoncourt/NeuroNER/master/neuroner/data/conll2003/en//test.txt -P pos_chunk_ner/\n",
        "!wget -q https://raw.githubusercontent.com/Franck-Dernoncourt/NeuroNER/master/neuroner/data/conll2003/en/valid.txt -P pos_chunk_ner/\n",
        "!wget -q https://raw.githubusercontent.com/Franck-Dernoncourt/NeuroNER/master/neuroner/data/conll2003/en/train.txt -P pos_chunk_ner/\n",
        "!python format_data.py --input_path pos_chunk_ner/ --output_path pos_chunk/\n",
        "!python format_data.py --input_path pos_chunk_ner/ --output_path pos_ner/ --ner\n",
        "%cd -q ../\n",
        "!mkdir -p result/\n",
        "save_dir = 'result/'"
      ],
      "execution_count": 0,
      "outputs": []
    },
    {
      "cell_type": "code",
      "metadata": {
        "id": "8wsWuu-YWwcP",
        "colab_type": "code",
        "colab": {}
      },
      "source": [
        "import pandas as pd\n",
        "import os\n",
        "import torch\n",
        "from data import Corpus\n",
        "\n",
        "argsdata = 'data/pos_chunk/'\n",
        "corpus = Corpus(argsdata)"
      ],
      "execution_count": 0,
      "outputs": []
    },
    {
      "cell_type": "code",
      "metadata": {
        "id": "a5EiijGaXEGu",
        "colab_type": "code",
        "colab": {}
      },
      "source": [
        "target_data = (corpus.pos_train, corpus.chunk_train)\n",
        "valid_target_data = (corpus.pos_valid, corpus.chunk_valid)\n",
        "test_target_data = (corpus.pos_test, corpus.chunk_test)"
      ],
      "execution_count": 0,
      "outputs": []
    },
    {
      "cell_type": "code",
      "metadata": {
        "id": "_5iffSwC7OlG",
        "colab_type": "code",
        "colab": {}
      },
      "source": [
        "filename = save_dir + 'pos-chunk'\n",
        "modes = [''] + ['--auxiliary --mode '+s for s in ['\"Projection\"']]\n",
        "parameters = [(seed, lam, alpha, mode)\n",
        "              for seed in range(50)\n",
        "              for lam in [0., 0.01, 0.03, 0.1, 0.3, 1., 3., 10., 30., 100.]\n",
        "              for alpha in [1., 0.01]\n",
        "              for mode in modes]\n",
        "\n",
        "parameters = [x for x in parameters if (x[3] != '' or x[2] == 1.)]\n",
        "parameters = [x for x in parameters if (x[1] != 0. or x[3] == '')]\n",
        "\n",
        "i = max(0, len(os.listdir(save_dir))-2)\n",
        "while i < len(parameters):\n",
        "    seed, lam, alpha, mode = parameters[i]\n",
        "    !python main.py --seed {seed} --lam {lam} --alpha {alpha} --data 'data/pos_chunk/' --emsize 300 --npos_layers 2 --nchunk_layers 2 --nhid 128 --batch_size 128 --seq_len 10 --cuda --train_mode 'Joint' --epochs 300 {mode} --log_interval 20 --save \"{filename}\"\n",
        "    i += 1"
      ],
      "execution_count": 0,
      "outputs": []
    },
    {
      "cell_type": "code",
      "metadata": {
        "id": "6QbaAK1gE6Go",
        "colab_type": "code",
        "colab": {}
      },
      "source": [
        "modes = ['--auxiliary --mode '+s for s in ['\"Weighted cosine\"', '\"Unweighted cosine\"', '\"Orthogonal\"']]\n",
        "parameters2 = [(seed, lam, alpha, mode)\n",
        "              for seed in range(50)\n",
        "              for alpha in [1., 0.01]\n",
        "              for lam in [0.01, 0.03, 0.1, 0.3, 1., 3., 10., 30., 100.]\n",
        "              for mode in modes]\n",
        "\n",
        "i = max(0, len(os.listdir(save_dir))-2-len(parameters))\n",
        "while i < len(parameters2):\n",
        "    seed, lam, alpha, mode = parameters2[i]\n",
        "    !python main.py --seed {seed} --lam {lam} --alpha {alpha} --data 'data/pos_chunk/' --emsize 300 --npos_layers 2 --nchunk_layers 2 --nhid 128 --batch_size 128 --seq_len 10 --cuda --train_mode 'Joint' --epochs 300 {mode} --log_interval 20 --save \"{filename}\"\n",
        "    i += 1"
      ],
      "execution_count": 0,
      "outputs": []
    },
    {
      "cell_type": "code",
      "metadata": {
        "id": "VL1XmDS_TXzK",
        "colab_type": "code",
        "colab": {}
      },
      "source": [
        "files = [save_dir+f for f in os.listdir(save_dir) if 'seed' in f]\n",
        "results_dict = {'lam':[], 'alpha':[], 'mode':[], 'run':[], 'accuracy':[]}\n",
        "for i in range(len(files)):\n",
        "    lam = float(files[i].split('_lam')[1].split('_')[0])\n",
        "    alpha = float(files[i].split('_alpha')[1].split('_')[0])\n",
        "    run = int(files[i].split('_seed')[1].split('_')[0])\n",
        "    mode = files[i].split('_mode-')[1].split('_')[0].replace('_', ' ')\n",
        "    if lam == 0:\n",
        "        mode = 'Single task'\n",
        "    accuracy = float(torch.load(files[i])['test_accuracies'][0][1])\n",
        "    results_dict['lam'].append(lam)\n",
        "    results_dict['alpha'].append(alpha)\n",
        "    results_dict['run'].append(run)\n",
        "    results_dict['mode'].append(mode)\n",
        "    results_dict['accuracy'].append(accuracy)\n",
        "df = pd.DataFrame.from_dict(results_dict)"
      ],
      "execution_count": 0,
      "outputs": []
    },
    {
      "cell_type": "code",
      "metadata": {
        "id": "3ER-IRt_enx7",
        "colab_type": "code",
        "colab": {}
      },
      "source": [
        "df.to_csv('../experiment-3.csv', index=False)"
      ],
      "execution_count": 0,
      "outputs": []
    }
  ]
}